{
 "cells": [
  {
   "cell_type": "markdown",
   "metadata": {},
   "source": [
    "# Welcome to Artificial Intelligence, Part II\n",
    "\n",
    "## This module will cover samplers of machine learning and computer vision\n",
    "\n",
    "## Today's agenda\n",
    "* Basic concepts of machine learning\n",
    "    * Basic terminology\n",
    "    * Supervised learning concepts\n",
    "    * Unsupervised learning concepts\n",
    "    * Some machine learning algorithms\n",
    "* Introduction to Jupyter Notebooks\n",
    "* Introduction to NumPy\n",
    "* Your lab!\n"
   ]
  },
  {
   "cell_type": "markdown",
   "metadata": {},
   "source": [
    "# Machine Learning: The Basic Ideas\n",
    "## Machine learning is a method of data analysis that automates analytical modelbuilding. Using algorithms that iteratively learn from data, machine learningallows computers to find hidden insights without being explicitly programmedwhere to look.\n",
    "\n",
    "* It’s used to predict/detect --- Supervised learning\n",
    "* It’s used to find patterns --- Unsupervised learning\n",
    "* It’s used to compress data/find underlying relationships --- Dimensionality reduction\n",
    "* Machine learning: algorithms to find statistical models\n"
   ]
  },
  {
   "cell_type": "markdown",
   "metadata": {
    "collapsed": true
   },
   "source": [
    "# A Few Terms\n",
    "* Training example: a member of a data set\n",
    "* Feature: an aspect of a training example (aka, independent variable)\n",
    "* Feature vector: an array of feature values for a given training example\n",
    "* Label (aka, dependent variable, y-value): what we are trying to predict\n",
    "* Model: A function that can be used to predict labels given feature vectors"
   ]
  },
  {
   "cell_type": "markdown",
   "metadata": {},
   "source": [
    "# Supervised Learning\n",
    "\n",
    "* Data has both feature vectors and labels\n",
    "* Creates model to predict labelswhen only feature vector is known\n",
    "* Examples: make a model to predict which Enron employees will be prosecuted from  emails; predict housing prices from house features, detect when road curves left, right \n",
    "\n",
    "## Below is a flow chart of the process for supervised learning\n",
    "\n",
    "![supervised learning flowchart](imgs/supervised_learning.jpg)\n",
    "\n",
    "* The parts with the blue arrows is the training part of the process. In training, we use labled data and a machine learning algorithm to create a model that can make predictions\n",
    "* The parts with the green arrows is the process of using an already trained model to make predictions on new data"
   ]
  },
  {
   "cell_type": "markdown",
   "metadata": {},
   "source": [
    "# Classification versus Regression\n",
    "\n",
    "* Classification: The label is a category (nondegreed)\n",
    "* Regression: The label is quantitative, degreed\n",
    "* A classification example: Predicting iris flower type:\n",
    "  * Four features: Petal length and height, sepal length and height\n",
    "  * Three kinds: Iris Setosa, Iris Versicolour, Iris Virginica Iris dataset: example used in scikit-learn\n",
    "  \n",
    "  ![](imgs/iris.png)\n",
    "  \n",
    "* A regression example: predicting house price from square footage\n",
    "\n",
    "  ![](imgs/houseprice.jpg)\n"
   ]
  },
  {
   "cell_type": "markdown",
   "metadata": {},
   "source": [
    "# Unsupervised Learning\n",
    "\n",
    "* The data is not labeled: the dependent variable (output variable) is not known\n",
    "* Unsupervised algorithms try to find patterns in data\n",
    "* Example: Pizza Hut delivery --- use clustering to find groups in unlabled data\n",
    " ![](imgs/pizzahut.png)\n"
   ]
  },
  {
   "cell_type": "markdown",
   "metadata": {},
   "source": [
    "# Some Algorithms\n",
    "\n",
    "* We will be using the scikit-learn machine learning library\n",
    "* Here are some of the algorithms it supports, in an advisory flow-chart\n",
    " ![](imgs/ml_map.png)"
   ]
  },
  {
   "cell_type": "markdown",
   "metadata": {},
   "source": [
    "# Introduction to Jupyter Notebooks\n",
    "\n",
    "* Jupyter notebooks are a way to do python programming with interactive cells\n",
    "* The cells can be run independently\n",
    "* Jupyter also has markup cells: cells that are used for text, images, diagrems, etc, for presentations or reports\n",
    "* Jupyter allows the rendering of graphs using python code from the code cells\n",
    "* Jupyter comes with Anaconda\n",
    "* Jupyter works with either Python 3 or Python 2\n",
    "* To start Jupyter, just go to the command line and type: jupyter notebook, a webpage at localhost will appear in your browser; that is your jupyter notebook homepage. You can create new notebooks from that page using the very simple and intuitive GUI there\n",
    "* Jupyter programs are served to you via your browser; the server lives at localhost\n",
    "* This document is a Jupyter notebook\n",
    "* See demo of various features of Jupyter\n",
    "* See https://www.cheatography.com/weidadeyue/cheat-sheets/jupyter-notebook/ for a Jupyter cheetsheet\n"
   ]
  },
  {
   "cell_type": "markdown",
   "metadata": {},
   "source": [
    "# Very Brief Intro to Linear Algebra"
   ]
  },
  {
   "cell_type": "markdown",
   "metadata": {},
   "source": [
    "# Introduction to NumPy\n",
    "\n",
    "* NumPy is a package for scientific computing in Python\n",
    "* It is often used for matrix manipulation using its most basic object, the NumPy array\n",
    "* Many machine learning and computer vision libraries use NumPy arrays\n",
    "* NumPy comes with Anaconda, though many people install it with pip as well\n",
    "* see NumPy's quick start tutorial at https://docs.scipy.org/doc/numpy-dev/user/quickstart.html\n",
    "* Let's learn by doing!\n",
    "\n",
    "* First, we need to install Anaconda on your machine\n",
    "\n",
    "for Windows, we will follow the instructions on this site: http://mathalope.co.uk/2015/05/07/opencv-python-how-to-install-opencv-python-package-to-anaconda-windows/\n",
    "\n",
    "** Step by step instructions coming for Windows users!!**\n",
    "\n",
    "* Now that Anaconda is installed and ready"
   ]
  },
  {
   "cell_type": "code",
   "execution_count": 2,
   "metadata": {
    "collapsed": false
   },
   "outputs": [
    {
     "name": "stdout",
     "output_type": "stream",
     "text": [
      "[1 2 3 4 5]\n",
      "[ 0  1  2  3  4  5  6  7  8  9 10 11]\n"
     ]
    }
   ],
   "source": [
    "# note, I will be using python 2 for this demo\n",
    "# importing numpy with the usual alias\n",
    "import numpy as np\n",
    "\n",
    "a = np.array([1,2,3,4,5])\n",
    "\n",
    "print a\n",
    "\n",
    "#array of consecutive numbers\n",
    "a = np.arange(12)\n",
    "\n",
    "print a\n"
   ]
  },
  {
   "cell_type": "code",
   "execution_count": 9,
   "metadata": {
    "collapsed": false
   },
   "outputs": [
    {
     "name": "stdout",
     "output_type": "stream",
     "text": [
      "[ 0  1  2  3  4  5  6  7  8  9 10 11] [ 0  1  2  3  4  5  6  7  8  9 10 11]\n",
      "[ 0  2  4  6  8 10 12 14 16 18 20 22]\n"
     ]
    },
    {
     "data": {
      "text/plain": [
       "array([ 0,  3,  6,  9, 12, 15, 18, 21, 24, 27, 30, 33])"
      ]
     },
     "execution_count": 9,
     "metadata": {},
     "output_type": "execute_result"
    }
   ],
   "source": [
    "#add arrays\n",
    "a = np.arange(12)\n",
    "b = np.arange(12)\n",
    "print a, b\n",
    "print a + b\n",
    "\n",
    "#multiply by scalar\n",
    "a * 3\n",
    "# note: * does not do dot product in numpy\n"
   ]
  },
  {
   "cell_type": "code",
   "execution_count": 14,
   "metadata": {
    "collapsed": false
   },
   "outputs": [
    {
     "name": "stdout",
     "output_type": "stream",
     "text": [
      "int64\n",
      "(12,) (12,)\n",
      "12 12\n"
     ]
    }
   ],
   "source": [
    "#get types of elements of array\n",
    "print a.dtype\n",
    "#get shape\n",
    "print a.shape, np.shape(a)\n",
    "#get size\n",
    "print a.size, np.size(a)"
   ]
  },
  {
   "cell_type": "code",
   "execution_count": 22,
   "metadata": {
    "collapsed": false
   },
   "outputs": [
    {
     "name": "stdout",
     "output_type": "stream",
     "text": [
      "[0 0 0 0 0 0 0 0 0 0 0 0]\n",
      "[1 1 1 1 1 1 1 1 1 1 1 1]\n",
      "[[ 0.  0.]\n",
      " [ 0.  0.]\n",
      " [ 0.  0.]]\n",
      "[[ 1.  1.]\n",
      " [ 1.  1.]\n",
      " [ 1.  1.]]\n",
      "[[ 0.  0.  0.  0.  0.]\n",
      " [ 0.  0.  0.  0.  0.]\n",
      " [ 0.  0.  0.  0.  0.]\n",
      " [ 0.  0.  0.  0.  0.]]\n",
      "[[ 0.77557269  0.51734378  0.72375147]\n",
      " [ 0.69857473  0.56313202  0.5610686 ]\n",
      " [ 0.9907688   0.32696968  0.82852391]]\n"
     ]
    }
   ],
   "source": [
    "#fill all values in an array\n",
    "a.fill(0)\n",
    "print a\n",
    "a[:] = 1\n",
    "print a\n",
    "print np.zeros((3, 2))\n",
    "print np.ones((3, 2))\n",
    "print np.empty((4, 5))\n",
    "#beware of type conversion: a float will be\n",
    "#coerced into an int32 if that’s the dtype\n",
    "#a random matrix\n",
    "r = np.random.rand(3, 3)\n",
    "print r"
   ]
  },
  {
   "cell_type": "code",
   "execution_count": 37,
   "metadata": {
    "collapsed": false
   },
   "outputs": [
    {
     "name": "stdout",
     "output_type": "stream",
     "text": [
      "[  0.    0.5   1.    1.5   2.    2.5   3.    3.5   4.    4.5   5.    5.5\n",
      "   6.    6.5   7.    7.5   8.    8.5   9.    9.5  10.   10.5  11.   11.5\n",
      "  12.   12.5  13.   13.5  14.   14.5  15.   15.5  16.   16.5  17.   17.5\n",
      "  18.   18.5  19.   19.5  20.   20.5  21.   21.5  22.   22.5  23.   23.5\n",
      "  24.   24.5  25.   25.5  26.   26.5  27.   27.5  28.   28.5  29.   29.5\n",
      "  30.   30.5  31.   31.5  32.   32.5  33.   33.5  34.   34.5  35.   35.5\n",
      "  36.   36.5  37.   37.5  38.   38.5  39.   39.5  40.   40.5  41.   41.5\n",
      "  42.   42.5  43.   43.5  44.   44.5  45.   45.5  46.   46.5  47.   47.5\n",
      "  48.   48.5  49.   49.5  50. ]\n"
     ]
    },
    {
     "data": {
      "text/plain": [
       "array([ 0.        ,  0.47942554,  0.84147098,  0.99749499,  0.90929743,\n",
       "        0.59847214,  0.14112001, -0.35078323, -0.7568025 , -0.97753012,\n",
       "       -0.95892427, -0.70554033, -0.2794155 ,  0.21511999,  0.6569866 ,\n",
       "        0.93799998,  0.98935825,  0.79848711,  0.41211849, -0.07515112,\n",
       "       -0.54402111, -0.87969576, -0.99999021, -0.87545217, -0.53657292,\n",
       "       -0.0663219 ,  0.42016704,  0.80378443,  0.99060736,  0.93489506,\n",
       "        0.65028784,  0.20646748, -0.28790332, -0.71178534, -0.96139749,\n",
       "       -0.97562601, -0.75098725, -0.34248062,  0.14987721,  0.60553987,\n",
       "        0.91294525,  0.99682979,  0.83665564,  0.471639  , -0.00885131,\n",
       "       -0.48717451, -0.8462204 , -0.99808203, -0.90557836, -0.59135753,\n",
       "       -0.13235175,  0.35905835,  0.76255845,  0.97935764,  0.95637593,\n",
       "        0.69924003,  0.27090579, -0.22375564, -0.66363388, -0.94103141,\n",
       "       -0.98803162, -0.79312724, -0.40403765,  0.08397446,  0.55142668,\n",
       "        0.88387042,  0.99991186,  0.87114   ,  0.52908269,  0.05748748,\n",
       "       -0.42818267, -0.80901877, -0.99177885, -0.93171689, -0.64353813,\n",
       "       -0.1977988 ,  0.29636858,  0.71797459,  0.96379539,  0.97364546,\n",
       "        0.74511316,  0.33415118, -0.15862267, -0.61256015, -0.91652155,\n",
       "       -0.9960865 , -0.83177474, -0.46381552,  0.01770193,  0.49488532,\n",
       "        0.85090352,  0.99859087,  0.90178835,  0.58419658,  0.12357312,\n",
       "       -0.36730535, -0.76825466, -0.98110844, -0.95375265, -0.69288495,\n",
       "       -0.26237485])"
      ]
     },
     "execution_count": 37,
     "metadata": {},
     "output_type": "execute_result"
    }
   ],
   "source": [
    "#fill all values in an array cont\n",
    "#100 numbers from 0 to 50\n",
    "x = np.linspace(0, 50, 101)\n",
    "print x\n",
    "# use a math function to transform\n",
    "np.sin(x)"
   ]
  },
  {
   "cell_type": "markdown",
   "metadata": {},
   "source": [
    "Slicing\n",
    "  "
   ]
  },
  {
   "cell_type": "code",
   "execution_count": 43,
   "metadata": {
    "collapsed": false
   },
   "outputs": [
    {
     "name": "stdout",
     "output_type": "stream",
     "text": [
      "[ 2  3  4  5  6  7  8  9 10 11 12 13 14 15 16 17 18 19 20 21 22 23 24 25 26\n",
      " 27 28 29]\n",
      "[28 29]\n",
      "[ 2  4  6  8 10 12 14 16 18 20 22 24 26 28]\n"
     ]
    }
   ],
   "source": [
    "a = np.arange(2, 30)\n",
    "print a\n",
    "#last 2 elements\n",
    "print a[-2:]\n",
    "#every other element\n",
    "#the syntax: [first:last:step]\n",
    "# if blank, assume first all the way to and including the end\n",
    "print a[::2]"
   ]
  },
  {
   "cell_type": "code",
   "execution_count": 44,
   "metadata": {
    "collapsed": false
   },
   "outputs": [
    {
     "name": "stdout",
     "output_type": "stream",
     "text": [
      "[[2 0]\n",
      " [0 4]]\n",
      "[[5 4]\n",
      " [3 4]]\n"
     ]
    }
   ],
   "source": [
    "a = np.array( [[1, 1], [0, 1]] )\n",
    "b = np.array( [[2, 0], [3, 4]] )\n",
    "print a * b   # elementwise product \n",
    "print a.dot(b) # matrix product"
   ]
  },
  {
   "cell_type": "code",
   "execution_count": 46,
   "metadata": {
    "collapsed": false
   },
   "outputs": [
    {
     "data": {
      "text/plain": [
       "'float64'"
      ]
     },
     "execution_count": 46,
     "metadata": {},
     "output_type": "execute_result"
    }
   ],
   "source": [
    "#upcasting to more general type\n",
    "a = np.ones(3, dtype=np.int32) #dtype int32\n",
    "b = np.linspace(0, np.pi, 3)\n",
    "b.dtype.name #'float64'\n",
    "c = a + b\n",
    "c.dtype.name #'float64'"
   ]
  },
  {
   "cell_type": "code",
   "execution_count": null,
   "metadata": {
    "collapsed": true
   },
   "outputs": [],
   "source": []
  }
 ],
 "metadata": {
  "kernelspec": {
   "display_name": "Python 2",
   "language": "python",
   "name": "python2"
  },
  "language_info": {
   "codemirror_mode": {
    "name": "ipython",
    "version": 2
   },
   "file_extension": ".py",
   "mimetype": "text/x-python",
   "name": "python",
   "nbconvert_exporter": "python",
   "pygments_lexer": "ipython2",
   "version": "2.7.11"
  }
 },
 "nbformat": 4,
 "nbformat_minor": 2
}
